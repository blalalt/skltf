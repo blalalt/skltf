{
 "cells": [
  {
   "cell_type": "code",
   "execution_count": 1,
   "metadata": {},
   "outputs": [],
   "source": [
    "#通过下面的一个简单的神经网络例子，来理解Tensorflow的编程步骤\n",
    "\n",
    "# 1.加载数据及定义超参数\n",
    "\n",
    "# 2. 构建网络\n",
    "\n",
    "# 3. 训练模型\n",
    "\n",
    "# 4. 评估模型，进行预测"
   ]
  },
  {
   "cell_type": "markdown",
   "metadata": {},
   "source": [
    "### 1. 生成及加载数据"
   ]
  },
  {
   "cell_type": "code",
   "execution_count": 2,
   "metadata": {},
   "outputs": [
    {
     "name": "stderr",
     "output_type": "stream",
     "text": [
      "C:\\ProgramData\\Anaconda3\\lib\\site-packages\\h5py\\__init__.py:36: FutureWarning: Conversion of the second argument of issubdtype from `float` to `np.floating` is deprecated. In future, it will be treated as `np.float64 == np.dtype(float).type`.\n",
      "  from ._conv import register_converters as _register_converters\n"
     ]
    }
   ],
   "source": [
    "# 假设学习的函数为: y=x^{2} + 1\n",
    "# 生成数据并加上噪音\n",
    "\n",
    "import tensorflow as tf\n",
    "import numpy as np\n",
    "\n",
    "x = np.linspace(-1, 1, 300).reshape((-1, 1))\n",
    "# 噪音服从均值为0、方差为0.05的正态分布\n",
    "noise = np.random.normal(0, 0.05, x.shape)\n",
    "\n",
    "y = x + noise\n",
    "\n",
    "# 定义占位符来作为将要输入神经网络的变量\n",
    "input_data = tf.placeholder(tf.float32, [None, 1])\n",
    "input_label = tf.placeholder(tf.float32, [None, 1])"
   ]
  },
  {
   "cell_type": "markdown",
   "metadata": {},
   "source": [
    "## 2. 构建网络模型"
   ]
  },
  {
   "cell_type": "markdown",
   "metadata": {},
   "source": [
    "构建一个隐藏层和一个输出层。作为神经网络中的层，输入参数应该有4 个变量：输入数据、输入数据的维度、输出数据的维度和激活函数。每一层经过向量化（y = weights×x + biases）的处理，并且经过激活函数的非线性化处理后，最终得到输出数据"
   ]
  },
  {
   "cell_type": "code",
   "execution_count": 3,
   "metadata": {},
   "outputs": [],
   "source": [
    "def add_layer(input_data, in_size, out_size, activation_func=None):\n",
    "    # 定义权重矩阵, shape=[in_size, out_size]\n",
    "    w = tf.Variable(tf.random_normal([in_size, out_size]), name='weights')\n",
    "    # 定义偏差\n",
    "    b = tf.Variable(tf.zeros([1, out_size]) + 0.1, name='biases')\n",
    "    \n",
    "    net = tf.matmul(input_data, w) + b\n",
    "    \n",
    "    return net if not activation_func else activation_func(net)\n",
    "\n",
    "# 构建隐藏层，20个神经元\n",
    "h1 = add_layer(input_data, 1, 20, tf.nn.relu)\n",
    "\n",
    "# 构建输出层\n",
    "out = add_layer(h1, 20, 1, None)\n",
    "\n",
    "# 构建损失函数\n",
    "loss = tf.reduce_mean(tf.square(input_label - out), 0)\n",
    "# 构造优化器\n",
    "train_step = tf.train.GradientDescentOptimizer(0.1).minimize(loss)"
   ]
  },
  {
   "cell_type": "markdown",
   "metadata": {},
   "source": [
    "## 3.训练模型"
   ]
  },
  {
   "cell_type": "code",
   "execution_count": 4,
   "metadata": {},
   "outputs": [
    {
     "name": "stdout",
     "output_type": "stream",
     "text": [
      "[1.6905106]\n",
      "[0.00267205]\n",
      "[0.00260435]\n",
      "[0.00253519]\n",
      "[0.00245796]\n",
      "[0.00238153]\n",
      "[0.00232054]\n",
      "[0.00231071]\n",
      "[0.0023064]\n",
      "[0.00230337]\n",
      "[0.00230083]\n",
      "[0.0022988]\n",
      "[0.00229717]\n",
      "[0.00229576]\n",
      "[0.00229452]\n",
      "[0.00229341]\n",
      "[0.00229236]\n",
      "[0.00229106]\n",
      "[0.00228999]\n",
      "[0.00228909]\n",
      "[<tf.Variable 'weights:0' shape=(1, 20) dtype=float32_ref>, <tf.Variable 'biases:0' shape=(1, 20) dtype=float32_ref>, <tf.Variable 'weights_1:0' shape=(20, 1) dtype=float32_ref>, <tf.Variable 'biases_1:0' shape=(1, 1) dtype=float32_ref>]\n"
     ]
    }
   ],
   "source": [
    "# 首先构造全局初始化器, 用来初始化所有变量\n",
    "init = tf.global_variables_initializer()\n",
    "# 创建会话\n",
    "with tf.Session() as sess:\n",
    "    sess.run(init) # 初始化所有变量\n",
    "    for i in range(1000):\n",
    "        sess.run(train_step, feed_dict={input_data: x, input_label: y})\n",
    "        if i % 50 == 0: # 每50次打印loss\n",
    "            print(sess.run(loss, feed_dict={input_data: x, input_label: y}))\n",
    "            \n",
    "# 查看学习得到的参数\n",
    "\n",
    "print(list(var for var in tf.global_variables()))"
   ]
  },
  {
   "cell_type": "markdown",
   "metadata": {},
   "source": [
    "## 模型评估\n",
    "通过测试集来评估，略过"
   ]
  },
  {
   "cell_type": "code",
   "execution_count": null,
   "metadata": {},
   "outputs": [],
   "source": []
  }
 ],
 "metadata": {
  "kernelspec": {
   "display_name": "Python 3",
   "language": "python",
   "name": "python3"
  },
  "language_info": {
   "codemirror_mode": {
    "name": "ipython",
    "version": 3
   },
   "file_extension": ".py",
   "mimetype": "text/x-python",
   "name": "python",
   "nbconvert_exporter": "python",
   "pygments_lexer": "ipython3",
   "version": "3.6.5"
  }
 },
 "nbformat": 4,
 "nbformat_minor": 2
}
